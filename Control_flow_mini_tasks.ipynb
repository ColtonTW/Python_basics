{
  "nbformat": 4,
  "nbformat_minor": 0,
  "metadata": {
    "colab": {
      "provenance": []
    },
    "kernelspec": {
      "name": "python3",
      "display_name": "Python 3"
    },
    "language_info": {
      "name": "python"
    }
  },
  "cells": [
    {
      "cell_type": "markdown",
      "source": [
        "Odd or even number"
      ],
      "metadata": {
        "id": "Bu8fpIgMiHkf"
      }
    },
    {
      "cell_type": "code",
      "execution_count": null,
      "metadata": {
        "id": "zNZh7Vc8iAxm",
        "colab": {
          "base_uri": "https://localhost:8080/"
        },
        "outputId": "0d75d2f3-981f-4344-ba9c-a08764935e5a"
      },
      "outputs": [
        {
          "output_type": "stream",
          "name": "stdout",
          "text": [
            "Enter a number:35\n",
            "The number is odd\n"
          ]
        }
      ],
      "source": [
        "num = int(input(\"Enter a number:\"))\n",
        "\n",
        "if num % 2 == 0:\n",
        "    print(\"The number is even\")\n",
        "else:\n",
        "    print(\"The number is odd\")"
      ]
    },
    {
      "cell_type": "markdown",
      "source": [
        "Give 3 numbers, find the largest"
      ],
      "metadata": {
        "id": "Kfl0m5VLiLsf"
      }
    },
    {
      "cell_type": "code",
      "source": [
        "a = int(input(\"Enter number a:\"))\n",
        "b = int(input(\"Enter number b:\"))\n",
        "c = int(input(\"Enter number c:\"))\n",
        "\n",
        "if a>b and a>c:\n",
        "    print(f\"{a} is the largest number\")\n",
        "elif a<b and b>c:\n",
        "    print(f\"{b} is the largest number\")\n",
        "else:\n",
        "    print(f\"{c} is the largest number\")"
      ],
      "metadata": {
        "id": "LxNJLWEbiLIb",
        "colab": {
          "base_uri": "https://localhost:8080/"
        },
        "outputId": "f57e7394-99f8-4b18-c3cb-461f0e99167a"
      },
      "execution_count": null,
      "outputs": [
        {
          "output_type": "stream",
          "name": "stdout",
          "text": [
            "Enter number a:12\n",
            "Enter number b:56\n",
            "Enter number c:43\n",
            "56 is the largest number\n"
          ]
        }
      ]
    },
    {
      "cell_type": "markdown",
      "source": [
        "\n",
        "Is this year a leap year?"
      ],
      "metadata": {
        "id": "vLcnbs_3iOwV"
      }
    },
    {
      "cell_type": "code",
      "source": [
        "y = int(input(\"Please enter a year: \"))\n",
        "\n",
        "if y % 4 == 0 :\n",
        "  print(f\"This year, {y}, is a leap year\")\n",
        "else:\n",
        "  print(f\"This year, {y}, is not a leap year\")"
      ],
      "metadata": {
        "colab": {
          "base_uri": "https://localhost:8080/"
        },
        "id": "z-ZIXznI_McL",
        "outputId": "1edb2403-4b26-4fdc-d217-f8fe00103b9d"
      },
      "execution_count": null,
      "outputs": [
        {
          "output_type": "stream",
          "name": "stdout",
          "text": [
            "Please enter a year: 2024\n",
            "This year, 2024, is a leap year\n"
          ]
        }
      ]
    },
    {
      "cell_type": "markdown",
      "source": [
        "Is user able to vote? 18+"
      ],
      "metadata": {
        "id": "oNcL2iADiR4V"
      }
    },
    {
      "cell_type": "code",
      "source": [
        "age = int(input(\"Please enter your age:\"))\n",
        "\n",
        "if age > 18:\n",
        "    print(\"You are old enough, go ahead and vote\")\n",
        "else:\n",
        "    print(\"You are not old enough to vote\")"
      ],
      "metadata": {
        "id": "KoG7NLx-_NBc",
        "colab": {
          "base_uri": "https://localhost:8080/"
        },
        "outputId": "302fdd12-8f8d-4bb9-8163-e83b9ebb5847"
      },
      "execution_count": null,
      "outputs": [
        {
          "output_type": "stream",
          "name": "stdout",
          "text": [
            "Please enter your age:12\n",
            "You are not old enough to vote\n"
          ]
        }
      ]
    },
    {
      "cell_type": "markdown",
      "source": [
        "is a celsius temp hot(>30), cold(<15), or middle"
      ],
      "metadata": {
        "id": "3b1mgN7niXTJ"
      }
    },
    {
      "cell_type": "code",
      "source": [
        "temp = int(input(\"What is the current temperature in celsius?\"))\n",
        "\n",
        "if temp > 30:\n",
        "    print(f\"The current temperature is {temp}, it is hot.\")\n",
        "elif temp < 15:\n",
        "    print(f\"The current temperature is {temp}, it is cold.\")\n",
        "else:\n",
        "    print(f\"The current temperature is {temp}, it is moderate\")"
      ],
      "metadata": {
        "id": "pwiNXEOm_Ri9",
        "colab": {
          "base_uri": "https://localhost:8080/"
        },
        "outputId": "cb20b884-369a-4589-8f60-b78463b547e1"
      },
      "execution_count": null,
      "outputs": [
        {
          "output_type": "stream",
          "name": "stdout",
          "text": [
            "What is the current temperature in celsius?1\n",
            "The current temperature is 1, it is cold.\n"
          ]
        }
      ]
    },
    {
      "cell_type": "markdown",
      "source": [
        "print all even numbers upto 50 using for loop"
      ],
      "metadata": {
        "id": "picaoPTxiiZS"
      }
    },
    {
      "cell_type": "code",
      "source": [
        "for i in range(0,51,2): ## need the i to show every row --  add 2 as the third number to show the number of steps\n",
        "  print(i)"
      ],
      "metadata": {
        "id": "YbnyQoPU_Q-w",
        "colab": {
          "base_uri": "https://localhost:8080/"
        },
        "outputId": "308c389a-1421-4a87-d095-bac93a88817e"
      },
      "execution_count": null,
      "outputs": [
        {
          "output_type": "stream",
          "name": "stdout",
          "text": [
            "0\n",
            "2\n",
            "4\n",
            "6\n",
            "8\n",
            "10\n",
            "12\n",
            "14\n",
            "16\n",
            "18\n",
            "20\n",
            "22\n",
            "24\n",
            "26\n",
            "28\n",
            "30\n",
            "32\n",
            "34\n",
            "36\n",
            "38\n",
            "40\n",
            "42\n",
            "44\n",
            "46\n",
            "48\n",
            "50\n"
          ]
        }
      ]
    },
    {
      "cell_type": "markdown",
      "source": [
        "prints times tables for numbers 1-10"
      ],
      "metadata": {
        "id": "7XXczC_oiml3"
      }
    },
    {
      "cell_type": "code",
      "source": [
        "a = 1\n",
        "\n",
        "while a < 10:\n",
        "  for i in range(1,11):\n",
        "    print(a*i)\n",
        "  a += 1 ## needed on same indent as 'for' to show this is part of the main loop and not the smaller loop"
      ],
      "metadata": {
        "id": "m8_vq2kU_Qv_",
        "colab": {
          "base_uri": "https://localhost:8080/"
        },
        "outputId": "b827fa2f-0e35-4bc4-c920-2521c584a92b"
      },
      "execution_count": null,
      "outputs": [
        {
          "output_type": "stream",
          "name": "stdout",
          "text": [
            "1\n",
            "2\n",
            "3\n",
            "4\n",
            "5\n",
            "6\n",
            "7\n",
            "8\n",
            "9\n",
            "10\n",
            "2\n",
            "4\n",
            "6\n",
            "8\n",
            "10\n",
            "12\n",
            "14\n",
            "16\n",
            "18\n",
            "20\n",
            "3\n",
            "6\n",
            "9\n",
            "12\n",
            "15\n",
            "18\n",
            "21\n",
            "24\n",
            "27\n",
            "30\n",
            "4\n",
            "8\n",
            "12\n",
            "16\n",
            "20\n",
            "24\n",
            "28\n",
            "32\n",
            "36\n",
            "40\n",
            "5\n",
            "10\n",
            "15\n",
            "20\n",
            "25\n",
            "30\n",
            "35\n",
            "40\n",
            "45\n",
            "50\n",
            "6\n",
            "12\n",
            "18\n",
            "24\n",
            "30\n",
            "36\n",
            "42\n",
            "48\n",
            "54\n",
            "60\n",
            "7\n",
            "14\n",
            "21\n",
            "28\n",
            "35\n",
            "42\n",
            "49\n",
            "56\n",
            "63\n",
            "70\n",
            "8\n",
            "16\n",
            "24\n",
            "32\n",
            "40\n",
            "48\n",
            "56\n",
            "64\n",
            "72\n",
            "80\n",
            "9\n",
            "18\n",
            "27\n",
            "36\n",
            "45\n",
            "54\n",
            "63\n",
            "72\n",
            "81\n",
            "90\n"
          ]
        }
      ]
    },
    {
      "cell_type": "markdown",
      "source": [
        "calc sum of all numbers upto a random number from the user"
      ],
      "metadata": {
        "id": "wEfwjndKiqQ_"
      }
    },
    {
      "cell_type": "code",
      "source": [
        "n = int(input(\"Please enter a number:\"))\n",
        "\n",
        "sum = 0\n",
        "\n",
        "while n > 0:\n",
        "  num = n % 10\n",
        "  sum += num\n",
        "  n //= 10\n",
        "\n",
        "print(sum)\n"
      ],
      "metadata": {
        "id": "q7E5fcor_QYy",
        "colab": {
          "base_uri": "https://localhost:8080/"
        },
        "outputId": "85c93e06-e594-49a7-fc8c-acb910b38f6f"
      },
      "execution_count": null,
      "outputs": [
        {
          "output_type": "stream",
          "name": "stdout",
          "text": [
            "Please enter a number:234\n",
            "9\n"
          ]
        }
      ]
    },
    {
      "cell_type": "markdown",
      "source": [
        "enter numbers using -1 as the signal to stop and then sum all the numbers written"
      ],
      "metadata": {
        "id": "ER9lupKkiwsH"
      }
    },
    {
      "cell_type": "code",
      "source": [
        "n = int(input(\"please enter a number:\"))\n",
        "\n",
        "sum = 0\n",
        "\n",
        "while n != -1:\n",
        "  sum += n\n",
        "  n = int(input(\"please enter a number:\")) ## need to re-enter this hearto show it needs to be looped\n",
        "\n",
        "print(sum)\n"
      ],
      "metadata": {
        "id": "xUUTsZWA_QHS",
        "colab": {
          "base_uri": "https://localhost:8080/"
        },
        "outputId": "d88dbe53-effe-47de-ff2c-a484849f27c8"
      },
      "execution_count": null,
      "outputs": [
        {
          "output_type": "stream",
          "name": "stdout",
          "text": [
            "please enter a number:21\n",
            "please enter a number:34\n",
            "please enter a number:65\n",
            "please enter a number:-1\n",
            "120\n"
          ]
        }
      ]
    },
    {
      "cell_type": "markdown",
      "source": [
        "fibonacci upto a random number"
      ],
      "metadata": {
        "id": "HCYD2J9vi_6m"
      }
    },
    {
      "cell_type": "code",
      "source": [
        "a = 0\n",
        "b = 1\n",
        "\n",
        "n = int(input(\"Please enter a number to stop at:\"))\n",
        "\n",
        "for _ in range (n):\n",
        "    sum = a + b\n",
        "    a, b = b, sum\n",
        "    print(sum) ## keep this in the loop so every number in the sequence is printed\n",
        "\n"
      ],
      "metadata": {
        "id": "vrws9ypW_Pqk",
        "colab": {
          "base_uri": "https://localhost:8080/"
        },
        "outputId": "a3c0745c-2ee1-49c2-efa4-1fae89b5742d"
      },
      "execution_count": null,
      "outputs": [
        {
          "output_type": "stream",
          "name": "stdout",
          "text": [
            "Please enter a number to stop at:10\n",
            "1\n",
            "2\n",
            "3\n",
            "5\n",
            "8\n",
            "13\n",
            "21\n",
            "34\n",
            "55\n",
            "89\n"
          ]
        }
      ]
    },
    {
      "cell_type": "markdown",
      "source": [
        "3 password attempts and then \"Access denied\""
      ],
      "metadata": {
        "id": "rWT_flH9jDq7"
      }
    },
    {
      "cell_type": "code",
      "source": [
        "\n",
        "\n",
        "\n",
        "def entry():\n",
        "  max_attempts = 2\n",
        "  attempts = 0\n",
        "  while attempts <= max_attempts:\n",
        "    pin = input(\"Please enter your password:\")\n",
        "    if pin == 'hello':\n",
        "        print(\"Correct, starting your device now\")\n",
        "        return pin\n",
        "    elif attempts >= max_attempts:\n",
        "        print(\"Access denied\")\n",
        "        return pin\n",
        "    else:\n",
        "        print(\"Password incorrect, please try again\")\n",
        "        attempts += 1\n",
        "\n",
        "entry()"
      ],
      "metadata": {
        "id": "zqE145Um_Pbu",
        "colab": {
          "base_uri": "https://localhost:8080/",
          "height": 140
        },
        "outputId": "3b7f1010-26d3-4e14-eb68-08870b733db2"
      },
      "execution_count": null,
      "outputs": [
        {
          "output_type": "stream",
          "name": "stdout",
          "text": [
            "Please enter your password:de\n",
            "Password incorrect, please try again\n",
            "Please enter your password:rf\n",
            "Password incorrect, please try again\n",
            "Please enter your password:rt\n",
            "Access denied\n"
          ]
        },
        {
          "output_type": "execute_result",
          "data": {
            "text/plain": [
              "'rt'"
            ],
            "application/vnd.google.colaboratory.intrinsic+json": {
              "type": "string"
            }
          },
          "metadata": {},
          "execution_count": 53
        }
      ]
    },
    {
      "cell_type": "markdown",
      "source": [
        "find all primes 1-100 using loops"
      ],
      "metadata": {
        "id": "N0xGRwjajJhy"
      }
    },
    {
      "cell_type": "code",
      "source": [
        "for i in range(2,101):\n",
        "  prime = True\n",
        "  for j in range(2,i): ## checks if the numbers are divisible by all numbers between 2 and the current digit -- if this is true it won't be prime so will be skipped\n",
        "    if (i % j == 0):\n",
        "      prime = False\n",
        "  if prime == True:\n",
        "      print(i)\n",
        "\n",
        "\n"
      ],
      "metadata": {
        "id": "idONY7nw_PDa",
        "colab": {
          "base_uri": "https://localhost:8080/"
        },
        "outputId": "6256acc7-5769-4e71-c276-e1f5b7268ccd"
      },
      "execution_count": 19,
      "outputs": [
        {
          "output_type": "stream",
          "name": "stdout",
          "text": [
            "2\n",
            "3\n",
            "5\n",
            "7\n",
            "11\n",
            "13\n",
            "17\n",
            "19\n",
            "23\n",
            "29\n",
            "31\n",
            "37\n",
            "41\n",
            "43\n",
            "47\n",
            "53\n",
            "59\n",
            "61\n",
            "67\n",
            "71\n",
            "73\n",
            "79\n",
            "83\n",
            "89\n",
            "97\n"
          ]
        }
      ]
    },
    {
      "cell_type": "markdown",
      "source": [
        "count digits in a number"
      ],
      "metadata": {
        "id": "mvFbgYosjM5o"
      }
    },
    {
      "cell_type": "code",
      "source": [
        "n = int(input(\"Please enter a number: \"))\n",
        "\n",
        "digits = 0\n",
        "\n",
        "while n > 0:\n",
        "  n //= 10\n",
        "  digits += 1 ## for every digit that gets removed from the number, digits gets + 1\n",
        "\n",
        "print(digits)"
      ],
      "metadata": {
        "id": "z7drkz3a_OtD",
        "colab": {
          "base_uri": "https://localhost:8080/"
        },
        "outputId": "ec7c08fc-159a-4c2a-cdde-fa02461694af"
      },
      "execution_count": 20,
      "outputs": [
        {
          "output_type": "stream",
          "name": "stdout",
          "text": [
            "Please enter a number: 23345676\n",
            "8\n"
          ]
        }
      ]
    },
    {
      "cell_type": "markdown",
      "source": [
        "asks for a number and gives error if answer isnt numerical"
      ],
      "metadata": {
        "id": "XrOhaA-LjT5K"
      }
    },
    {
      "cell_type": "code",
      "source": [
        "n = input(\"Please enter a number: \")\n",
        "\n",
        "if n.isdigit():\n",
        "  print(\"This is a number\")\n",
        "elif n.isdecimal():\n",
        "  print(\"This is a number\")\n",
        "else:\n",
        "  print(\"Error, this is not a numerical value\")\n",
        "        ### need to ask about adding negative numbers"
      ],
      "metadata": {
        "id": "maL8GpQ9_OaU",
        "colab": {
          "base_uri": "https://localhost:8080/"
        },
        "outputId": "a9703ca0-05a9-4098-a15a-945f360adbf5"
      },
      "execution_count": 28,
      "outputs": [
        {
          "output_type": "stream",
          "name": "stdout",
          "text": [
            "Please enter a number: ello\n",
            "Error, this is not a numerical value\n"
          ]
        }
      ]
    },
    {
      "cell_type": "markdown",
      "source": [
        "mod division program to handle ZeroDivisionError and display message instead of crashing"
      ],
      "metadata": {
        "id": "aMtFjpJOjXdj"
      }
    },
    {
      "cell_type": "code",
      "source": [
        "n = int(input(\"Please enter a number:\"))\n",
        "\n",
        "b = int(input(\"Please enter a number to divide by:\"))\n",
        "\n",
        "try:\n",
        "  print(n/b)\n",
        "  if b == 0:\n",
        "    print(\"Error cannot divide by zero\")\n",
        "except ZeroDivisionError: ## need to add an except to show that it needs to replace the ZeroDivisionError and still run the equation\n",
        "  print(\"Error cannot divide by zero\")"
      ],
      "metadata": {
        "id": "LklRssaI_OJL",
        "colab": {
          "base_uri": "https://localhost:8080/"
        },
        "outputId": "b25c3f9f-9e8c-45d6-9c7e-34bd52400bd4"
      },
      "execution_count": 31,
      "outputs": [
        {
          "output_type": "stream",
          "name": "stdout",
          "text": [
            "Please enter a number:4\n",
            "Please enter a number to divide by:0\n",
            "Error cannot divide by zero\n"
          ]
        }
      ]
    },
    {
      "cell_type": "markdown",
      "source": [
        "BONUS:\n",
        "1-50\n",
        "/3 = 'fizz'\n",
        "/5 = 'buzz\n",
        "/3 and /5 = 'fizzbuzz'"
      ],
      "metadata": {
        "id": "CBxXNDY1jh0F"
      }
    },
    {
      "cell_type": "code",
      "source": [
        "for i in range(0,51):\n",
        "  if i % 3 == 0:\n",
        "    print(f\"{i} ='fizz'\")\n",
        "  elif i % 5 == 0:\n",
        "    print(f\"{i} ='buzz'\")\n",
        "  elif i % 3 == 0 and i % 5 == 0:\n",
        "    print(f\"{i} ='fizzbuzz'\")\n",
        "  else:\n",
        "    print(f\"{i} is not divisible by 3 or 5\")"
      ],
      "metadata": {
        "id": "GDVxVur0_Nn6",
        "colab": {
          "base_uri": "https://localhost:8080/"
        },
        "outputId": "a135a005-44d9-4bfd-a24d-276e78a38877"
      },
      "execution_count": 34,
      "outputs": [
        {
          "output_type": "stream",
          "name": "stdout",
          "text": [
            "0 ='fizz'\n",
            "1 is not divisible by 3 or 5\n",
            "2 is not divisible by 3 or 5\n",
            "3 ='fizz'\n",
            "4 is not divisible by 3 or 5\n",
            "5 ='buzz'\n",
            "6 ='fizz'\n",
            "7 is not divisible by 3 or 5\n",
            "8 is not divisible by 3 or 5\n",
            "9 ='fizz'\n",
            "10 ='buzz'\n",
            "11 is not divisible by 3 or 5\n",
            "12 ='fizz'\n",
            "13 is not divisible by 3 or 5\n",
            "14 is not divisible by 3 or 5\n",
            "15 ='fizz'\n",
            "16 is not divisible by 3 or 5\n",
            "17 is not divisible by 3 or 5\n",
            "18 ='fizz'\n",
            "19 is not divisible by 3 or 5\n",
            "20 ='buzz'\n",
            "21 ='fizz'\n",
            "22 is not divisible by 3 or 5\n",
            "23 is not divisible by 3 or 5\n",
            "24 ='fizz'\n",
            "25 ='buzz'\n",
            "26 is not divisible by 3 or 5\n",
            "27 ='fizz'\n",
            "28 is not divisible by 3 or 5\n",
            "29 is not divisible by 3 or 5\n",
            "30 ='fizz'\n",
            "31 is not divisible by 3 or 5\n",
            "32 is not divisible by 3 or 5\n",
            "33 ='fizz'\n",
            "34 is not divisible by 3 or 5\n",
            "35 ='buzz'\n",
            "36 ='fizz'\n",
            "37 is not divisible by 3 or 5\n",
            "38 is not divisible by 3 or 5\n",
            "39 ='fizz'\n",
            "40 ='buzz'\n",
            "41 is not divisible by 3 or 5\n",
            "42 ='fizz'\n",
            "43 is not divisible by 3 or 5\n",
            "44 is not divisible by 3 or 5\n",
            "45 ='fizz'\n",
            "46 is not divisible by 3 or 5\n",
            "47 is not divisible by 3 or 5\n",
            "48 ='fizz'\n",
            "49 is not divisible by 3 or 5\n",
            "50 ='buzz'\n"
          ]
        }
      ]
    }
  ]
}